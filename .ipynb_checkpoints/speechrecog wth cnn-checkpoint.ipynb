{
 "cells": [
  {
   "cell_type": "code",
   "execution_count": 4,
   "id": "a1f54cca",
   "metadata": {},
   "outputs": [],
   "source": [
    "# Import libraries \n",
    "import librosa\n",
    "import librosa.display\n",
    "import numpy as np\n",
    "import matplotlib.pyplot as plt\n",
    "import tensorflow as tf\n",
    "from matplotlib.pyplot import specgram\n",
    "import pandas as pd\n",
    "import glob \n",
    "from sklearn.metrics import confusion_matrix\n",
    "import IPython.display as ipd  # To play sound in the notebook\n",
    "import os\n",
    "import sys\n",
    "import warnings\n",
    "\n",
    "#ignore warnings \n",
    "if not sys.warnoptions:\n",
    "    warnings.simplefilter(\"ignore\")\n",
    "warnings.filterwarnings(\"ignore\", category=DeprecationWarning)\n"
   ]
  },
  {
   "cell_type": "code",
   "execution_count": 18,
   "id": "0cc35589",
   "metadata": {},
   "outputs": [],
   "source": [
    "#for dirname, _, filenames in os.walk('/kaggle/input'):\n",
    "#    for filename in filenames:\n",
    "#        print(os.path.join(dirname, filename))\n",
    "\n",
    "TESS = \"/kaggle/input/toronto-emotional-speech-set-tess/tess toronto emotional speech set data/TESS Toronto emotional speech set data/\"\n",
    "RAV = \"/datasets/\"\n",
    "SAVEE = \"/ALL/\"\n",
    "CREMA = \"/untitle/AudioWAV/\"\n",
    "\n",
    "path = os.getcwd()\n",
    "file_name = \"\"\n",
    "new_path = os.path.join(path, file_name)\n",
    "os.chdir(new_path)\n"
   ]
  },
  {
   "cell_type": "code",
   "execution_count": 19,
   "id": "e27bf6f8",
   "metadata": {},
   "outputs": [
    {
     "data": {
      "text/plain": [
       "['1',\n",
       " '2',\n",
       " '3',\n",
       " '4',\n",
       " '5',\n",
       " 'a',\n",
       " 'b',\n",
       " 'c',\n",
       " 'd',\n",
       " 'e',\n",
       " 'ehmm',\n",
       " 'label klasifikasi kecurangan voice.txt',\n",
       " 'pstt',\n",
       " 'uhuk uhuk']"
      ]
     },
     "execution_count": 19,
     "metadata": {},
     "output_type": "execute_result"
    }
   ],
   "source": [
    "# Run one example \n",
    "os.listdir()"
   ]
  },
  {
   "cell_type": "code",
   "execution_count": 20,
   "id": "8f62eb1c",
   "metadata": {},
   "outputs": [
    {
     "ename": "FileNotFoundError",
     "evalue": "[WinError 3] The system cannot find the path specified: '/ALL/'",
     "output_type": "error",
     "traceback": [
      "\u001b[1;31m---------------------------------------------------------------------------\u001b[0m",
      "\u001b[1;31mFileNotFoundError\u001b[0m                         Traceback (most recent call last)",
      "\u001b[1;32m~\\AppData\\Local\\Temp/ipykernel_25808/3643766684.py\u001b[0m in \u001b[0;36m<module>\u001b[1;34m\u001b[0m\n\u001b[0;32m      1\u001b[0m \u001b[1;31m# Get the data location for SAVEE\u001b[0m\u001b[1;33m\u001b[0m\u001b[1;33m\u001b[0m\u001b[0m\n\u001b[1;32m----> 2\u001b[1;33m \u001b[0mdir_list\u001b[0m \u001b[1;33m=\u001b[0m \u001b[0mos\u001b[0m\u001b[1;33m.\u001b[0m\u001b[0mlistdir\u001b[0m\u001b[1;33m(\u001b[0m\u001b[0mSAVEE\u001b[0m\u001b[1;33m)\u001b[0m\u001b[1;33m\u001b[0m\u001b[1;33m\u001b[0m\u001b[0m\n\u001b[0m",
      "\u001b[1;31mFileNotFoundError\u001b[0m: [WinError 3] The system cannot find the path specified: '/ALL/'"
     ]
    }
   ],
   "source": [
    "# Get the data location for SAVEE\n",
    "dir_list = os.listdir(SAVEE)"
   ]
  },
  {
   "cell_type": "code",
   "execution_count": null,
   "id": "d53b6e3b",
   "metadata": {},
   "outputs": [],
   "source": [
    "\n",
    "# parse the filename to get the emotions\n",
    "datasets=[]\n",
    "path = []\n",
    "for i in dir_list:\n",
    "    if i[-8:-6]=='_a':\n",
    "        datasets.append('fonem_a')\n",
    "    elif i[-8:-6]=='_b':\n",
    "        datasets.append('fonem_b')\n",
    "    elif i[-8:-6]=='_c':\n",
    "        datasets.append('fonem_c')\n",
    "    elif i[-8:-6]=='_d':\n",
    "        datasets.append('fonem_d')\n",
    "    elif i[-8:-6]=='_e':\n",
    "        datasets.append('fonem_e')\n",
    "    elif i[-8:-6]=='_1':\n",
    "        datasets.append('fonem_1')\n",
    "    elif i[-8:-6]=='_2':\n",
    "        datasets.append('fonem_2')\n",
    "    elif i[-8:-6]=='_3':\n",
    "        datasets.append('fonem_3')\n",
    "    elif i[-8:-6]=='_4':\n",
    "        datasets.append('fonem_4')\n",
    "    elif i[-8:-6]=='_5':\n",
    "        datasets.append('fonem_5')\n",
    "    elif i[-8:-6]=='uhuk_uhuk':\n",
    "        datasets.append('fonem_batuk')\n",
    "    elif i[-8:-6]=='_ehem':\n",
    "        datasets.append('fonem_dehem')\n",
    "    elif i[-8:-6]=='_pstt':\n",
    "        datasets.append('fonem_pstt')\n",
    "    else:\n",
    "        datasets.append('fonem_error') \n",
    "    path.append(SAVEE + i)\n",
    "\n",
    "# Now check out the label count distribution \n",
    "SAVEE_df = pd.DataFrame(datasets, columns = ['labels'])\n",
    "SAVEE_df['source'] = 'SAVEE'\n",
    "SAVEE_df = pd.concat([SAVEE_df, pd.DataFrame(path, columns = ['path'])], axis = 1)\n",
    "SAVEE_df.labels.value_counts()"
   ]
  },
  {
   "cell_type": "code",
   "execution_count": null,
   "id": "6b33cd1d",
   "metadata": {},
   "outputs": [],
   "source": [
    "# use the well known Librosa library for this task \n",
    "fname = SAVEE + 'DC_f11.wav'  \n",
    "data, sampling_rate = librosa.load(fname)\n",
    "plt.figure(figsize=(15, 5))\n",
    "librosa.display.waveplot(data, sr=sampling_rate)\n",
    "\n",
    "# Lets play the audio \n",
    "ipd.Audio(fname)"
   ]
  },
  {
   "cell_type": "code",
   "execution_count": null,
   "id": "9221f9b4",
   "metadata": {},
   "outputs": [],
   "source": [
    "\n",
    "dir_list[0:5]"
   ]
  }
 ],
 "metadata": {
  "kernelspec": {
   "display_name": "Python 3 (ipykernel)",
   "language": "python",
   "name": "python3"
  },
  "language_info": {
   "codemirror_mode": {
    "name": "ipython",
    "version": 3
   },
   "file_extension": ".py",
   "mimetype": "text/x-python",
   "name": "python",
   "nbconvert_exporter": "python",
   "pygments_lexer": "ipython3",
   "version": "3.9.7"
  }
 },
 "nbformat": 4,
 "nbformat_minor": 5
}
