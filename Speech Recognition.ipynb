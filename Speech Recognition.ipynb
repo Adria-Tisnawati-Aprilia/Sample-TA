{
 "cells": [
  {
   "cell_type": "code",
   "execution_count": null,
   "id": "7029b373",
   "metadata": {},
   "outputs": [
    {
     "name": "stdout",
     "output_type": "stream",
     "text": [
      "Selamat Datang di Program\n",
      "\n",
      "Silahkan Pilih :\n",
      "1. Konversi Teks ke Suara\n",
      "2. Konversi Suara ke Teks (INPUT MIC)\n"
     ]
    }
   ],
   "source": [
    "import playsound   # Modul memutar Suara\n",
    "from gtts import gTTS    # Modul Konversi Teks ke Suara\n",
    "import speech_recognition as sr   #Modul Pengenalan Suara\n",
    "import os    # Modul Sistem Operasi\n",
    "\n",
    "print(\"Selamat Datang di Program\\n\")\n",
    "print(\"Silahkan Pilih :\")\n",
    "print(\"1. Konversi Teks ke Suara\")\n",
    "print(\"2. Konversi Suara ke Teks (INPUT MIC)\")\n",
    "pilihan = input(\"Jawab [1/2] :\")\n",
    "\n",
    "if(pilihan == \"1\"):\n",
    "    def suara(teks):\n",
    "        output = gTTS(text = teks, lang = 'id', slow = False)\n",
    "        output.save(\"hasilKonversi_TeksSuara.mp3\")\n",
    "        playsound.playsound(\"hasilKonversi_TeksSuara.mp3\", True)\n",
    "        os.remove(hasilKonversi_TeksSuara.mp3)\n",
    "elif(pilihan == \"2\"):\n",
    "    engine = sr.Recognizer()\n",
    "    mic = sr.Microphone()      #Kelas Microphone\n",
    "    hasil = \"\"\n",
    "    engine.pause_treshold = 3\n",
    "    \n",
    "    with mic as source:\n",
    "        print(\"Silahkan mulai (suara anda sedang direkam)\")\n",
    "        rekaman = engine.listen(source)  #Capture Microphone Input\n",
    "        print(\"Selesai\")\n",
    "        \n",
    "        try:\n",
    "            hasil = engine.recognize_google(rekaman, language = 'id')   # Mengenali Ucapan dari Sumber Audio\n",
    "            print(hasil)\n",
    "        except engine.UnknownValueError:\n",
    "            print(\"Maaf suara anda tidak terdeteksi sistem. Silahkan coba lagi.\")\n",
    "        except Exception as e:\n",
    "            print(e)\n",
    "            \n",
    "        text_file = open(\"hasilKonversi_SuaraTeks.txt\", \"w\")\n",
    "        text_file.write(hasil)\n",
    "        text_file.close()\n",
    "else:\n",
    "    print(\"Mohon masukan pilihan yang tersedia\")"
   ]
  },
  {
   "cell_type": "code",
   "execution_count": null,
   "id": "3e17e58f",
   "metadata": {},
   "outputs": [],
   "source": []
  }
 ],
 "metadata": {
  "kernelspec": {
   "display_name": "Python 3 (ipykernel)",
   "language": "python",
   "name": "python3"
  },
  "language_info": {
   "codemirror_mode": {
    "name": "ipython",
    "version": 3
   },
   "file_extension": ".py",
   "mimetype": "text/x-python",
   "name": "python",
   "nbconvert_exporter": "python",
   "pygments_lexer": "ipython3",
   "version": "3.9.7"
  }
 },
 "nbformat": 4,
 "nbformat_minor": 5
}
