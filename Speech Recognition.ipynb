{
 "cells": [
  {
   "cell_type": "code",
   "execution_count": 1,
   "id": "7029b373",
   "metadata": {},
   "outputs": [
    {
     "name": "stdout",
     "output_type": "stream",
     "text": [
      "Selamat Datang di Program\n",
      "\n",
      "Silahkan Pilih :\n",
      "1. Konversi Teks ke Suara\n",
      "2. Konversi Suara ke Teks (INPUT MIC)\n",
      "Jawab [1/2] :1\n"
     ]
    }
   ],
   "source": [
    "import playsound   # Modul memutar Suara\n",
    "from gtts import gTTS    # Modul Konversi Teks ke Suara\n",
    "import speech_recognition as sr   #Modul Pengenalan Suara\n",
    "import os    # Modul Sistem Operasi\n",
    "\n",
    "print(\"Selamat Datang di Program\\n\")\n",
    "print(\"Silahkan Pilih :\")\n",
    "print(\"1. Konversi Teks ke Suara\")\n",
    "print(\"2. Konversi Suara ke Teks (INPUT MIC)\")\n",
    "pilihan = input(\"Jawab [1/2] :\")\n",
    "\n",
    "if(pilihan == \"1\"):\n",
    "    def suara(teks):\n",
    "        output = gTTS(text = teks, lang = 'id', slow = False)\n",
    "        output.save(\"hasilKonversi_TeksSuara.mp3\")\n",
    "        playsound.playsound(\"hasilKonversi_TeksSuara.mp3\", True)\n",
    "        os.remove(hasilKonversi_TeksSuara.mp3)\n",
    "elif(pilihan == \"2\"):\n",
    "    engine = sr.Recognizer()\n",
    "    mic = sr.Microphone()      #Kelas Microphone\n",
    "    hasil = \"\"\n",
    "    engine.pause_treshold = 3\n",
    "    \n",
    "    with mic as source:\n",
    "        print(\"Silahkan mulai (suara anda sedang direkam)\")\n",
    "        rekaman = engine.listen(source)  #Capture Microphone Input\n",
    "        print(\"Selesai\")\n",
    "        \n",
    "        try:\n",
    "            hasil = engine.recognize_google(rekaman, language = 'id')   # Mengenali Ucapan dari Sumber Audio\n",
    "            print(hasil)\n",
    "        except engine.UnknownValueError:\n",
    "            print(\"Maaf suara anda tidak terdeteksi sistem. Silahkan coba lagi.\")\n",
    "        except Exception as e:\n",
    "            print(e)\n",
    "            \n",
    "        text_file = open(\"hasilKonversi_SuaraTeks.txt\", \"w\")\n",
    "        text_file.write(hasil)\n",
    "        text_file.close()\n",
    "else:\n",
    "    print(\"Mohon masukan pilihan yang tersedia\")"
   ]
  },
  {
   "cell_type": "code",
   "execution_count": 2,
   "id": "3e17e58f",
   "metadata": {},
   "outputs": [
    {
     "ename": "NameError",
     "evalue": "name 'hasilKonversi_TeksSuara' is not defined",
     "output_type": "error",
     "traceback": [
      "\u001b[1;31m---------------------------------------------------------------------------\u001b[0m",
      "\u001b[1;31mNameError\u001b[0m                                 Traceback (most recent call last)",
      "Cell \u001b[1;32mIn[2], line 1\u001b[0m\n\u001b[1;32m----> 1\u001b[0m \u001b[43msuara\u001b[49m\u001b[43m(\u001b[49m\u001b[38;5;124;43m\"\u001b[39;49m\u001b[38;5;124;43mhalo, selamat sore\u001b[39;49m\u001b[38;5;124;43m\"\u001b[39;49m\u001b[43m)\u001b[49m\n",
      "Cell \u001b[1;32mIn[1], line 17\u001b[0m, in \u001b[0;36msuara\u001b[1;34m(teks)\u001b[0m\n\u001b[0;32m     15\u001b[0m output\u001b[38;5;241m.\u001b[39msave(\u001b[38;5;124m\"\u001b[39m\u001b[38;5;124mhasilKonversi_TeksSuara.mp3\u001b[39m\u001b[38;5;124m\"\u001b[39m)\n\u001b[0;32m     16\u001b[0m playsound\u001b[38;5;241m.\u001b[39mplaysound(\u001b[38;5;124m\"\u001b[39m\u001b[38;5;124mhasilKonversi_TeksSuara.mp3\u001b[39m\u001b[38;5;124m\"\u001b[39m, \u001b[38;5;28;01mTrue\u001b[39;00m)\n\u001b[1;32m---> 17\u001b[0m os\u001b[38;5;241m.\u001b[39mremove(\u001b[43mhasilKonversi_TeksSuara\u001b[49m\u001b[38;5;241m.\u001b[39mmp3)\n",
      "\u001b[1;31mNameError\u001b[0m: name 'hasilKonversi_TeksSuara' is not defined"
     ]
    }
   ],
   "source": [
    "suara(\"halo, selamat sore\")"
   ]
  },
  {
   "cell_type": "code",
   "execution_count": null,
   "id": "3f35bfcf",
   "metadata": {},
   "outputs": [],
   "source": []
  }
 ],
 "metadata": {
  "kernelspec": {
   "display_name": "Python 3 (ipykernel)",
   "language": "python",
   "name": "python3"
  },
  "language_info": {
   "codemirror_mode": {
    "name": "ipython",
    "version": 3
   },
   "file_extension": ".py",
   "mimetype": "text/x-python",
   "name": "python",
   "nbconvert_exporter": "python",
   "pygments_lexer": "ipython3",
   "version": "3.9.7"
  }
 },
 "nbformat": 4,
 "nbformat_minor": 5
}
